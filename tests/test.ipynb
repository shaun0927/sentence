{
 "cells": [
  {
   "cell_type": "code",
   "execution_count": 2,
   "id": "3a1b6eab",
   "metadata": {},
   "outputs": [
    {
     "name": "stdout",
     "output_type": "stream",
     "text": [
      "Counter({0: 22053, 1: 7351}) (pos:neg ≈ 0.33:1)\n"
     ]
    }
   ],
   "source": [
    "import json, pathlib, collections\n",
    "fp = pathlib.Path(r'D:\\project\\Daycon\\sentence\\data\\proc\\fs_train.jsonl')\n",
    "assert fp.exists(), f\"경로 확인 필요: {fp}\"\n",
    "ctr = collections.Counter(json.loads(l)['label']\n",
    "                          for l in fp.open(encoding='utf-8'))\n",
    "print(ctr, f\"(pos:neg ≈ {ctr[1]/ctr[0]:.2f}:1)\")\n"
   ]
  }
 ],
 "metadata": {
  "kernelspec": {
   "display_name": "order",
   "language": "python",
   "name": "python3"
  },
  "language_info": {
   "codemirror_mode": {
    "name": "ipython",
    "version": 3
   },
   "file_extension": ".py",
   "mimetype": "text/x-python",
   "name": "python",
   "nbconvert_exporter": "python",
   "pygments_lexer": "ipython3",
   "version": "3.10.17"
  }
 },
 "nbformat": 4,
 "nbformat_minor": 5
}
